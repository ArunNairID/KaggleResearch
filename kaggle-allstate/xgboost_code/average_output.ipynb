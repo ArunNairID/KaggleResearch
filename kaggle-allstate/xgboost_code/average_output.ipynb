{
 "cells": [
  {
   "cell_type": "code",
   "execution_count": 2,
   "metadata": {
    "collapsed": false
   },
   "outputs": [
    {
     "name": "stdout",
     "output_type": "stream",
     "text": [
      "loading data...\n",
      "[ 1994.87121582  2295.13256836  2442.53393555 ...,  2353.89086914\n",
      "  3014.96923828  1895.92468262]\n",
      "[ 20294.671875    16088.92382812   5645.06201172 ...,  16088.92382812\n",
      "  16088.92382812  16088.92382812]\n",
      "[     4      6      9 ..., 587627 587629 587634]\n",
      "[ 11144.77154541   9192.02819824   4043.79797363 ...,   9221.40734863\n",
      "   9551.9465332    8992.42425537]\n",
      "writing output to ../allStateClaims_combination.csv...\n",
      "completed!\n"
     ]
    }
   ],
   "source": [
    "import pandas as pd\n",
    "import numpy\n",
    "import csv\n",
    "\n",
    "xgboost_data_dir = '../xgboost_data/'\n",
    "data_dir = '../data/'\n",
    "\n",
    "print('loading data...')\n",
    "\n",
    "df_out_cont = pd.read_csv(xgboost_data_dir+'allstateClaims_cont.csv', header=0, index_col=0)\n",
    "df_out_cat = pd.read_csv(xgboost_data_dir+'allstateClaims_cat.csv', header=0, index_col=0)\n",
    "df_out_ids = pd.read_csv(data_dir+'ids_test_all.csv', header=0, index_col=0)\n",
    "\n",
    "# average the output of the two columns\n",
    "out_cont = df_out_cont.values\n",
    "print(out_cont[:,0])\n",
    "out_cat = df_out_cat.values\n",
    "print(out_cat[:, 0])\n",
    "out_ids = df_out_ids.values\n",
    "print(out_ids[:, 0])\n",
    "\n",
    "test_pred = (out_cont + out_cat) / 2.0\n",
    "print(test_pred[:, 0])\n",
    "\n",
    "# write the output to csv\n",
    "outputFile = '../allStateClaims_combination.csv'\n",
    "print('writing output to %s...' % outputFile)\n",
    "prediction_file = open(outputFile, 'w')\n",
    "open_file_object = csv.writer(prediction_file)\n",
    "open_file_object.writerow(['id', 'loss'])\n",
    "open_file_object.writerows(zip(out_ids[:, 0], test_pred[:, 0]))\n",
    "prediction_file.close()\n",
    "print('completed!')"
   ]
  },
  {
   "cell_type": "code",
   "execution_count": null,
   "metadata": {
    "collapsed": true
   },
   "outputs": [],
   "source": []
  }
 ],
 "metadata": {
  "kernelspec": {
   "display_name": "Python 3",
   "language": "python",
   "name": "python3"
  },
  "language_info": {
   "codemirror_mode": {
    "name": "ipython",
    "version": 3
   },
   "file_extension": ".py",
   "mimetype": "text/x-python",
   "name": "python",
   "nbconvert_exporter": "python",
   "pygments_lexer": "ipython3",
   "version": "3.5.2"
  }
 },
 "nbformat": 4,
 "nbformat_minor": 1
}
