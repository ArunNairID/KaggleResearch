{
 "cells": [
  {
   "cell_type": "code",
   "execution_count": 7,
   "metadata": {
    "collapsed": true
   },
   "outputs": [],
   "source": [
    "import sklearn\n",
    "import numpy as np\n",
    "import pandas as pd\n",
    "from sklearn.ensemble import RandomForestClassifier, RandomForestRegressor"
   ]
  },
  {
   "cell_type": "code",
   "execution_count": 10,
   "metadata": {
    "collapsed": true
   },
   "outputs": [],
   "source": [
    "class RandomForest():\n",
    "    \"\"\"A class to choose and train a random forest model\"\"\"\n",
    "    \"\"\"This implements the sklearn Random Forest Model\"\"\"\n",
    "    \n",
    "    def __init__(self, data_dir='./processed_data/', regressor=False, n_jobs=1):\n",
    "        \"\"\"Initializes the random forest class\"\"\"\n",
    "        \n",
    "        # Create an initialization function that will allow for\n",
    "        # a saved model to be loaded\n",
    "        \n",
    "        self.n_jobs = n_jobs\n",
    "        self.regressor = regressor\n",
    "        self.data_dir = data_dir\n",
    "        \n",
    "        if regressor:\n",
    "            self.model = RandomForestRegressor()\n",
    "        else:\n",
    "            self.model = RandomForestClassifier()\n",
    "            \n",
    "        self.params = {}\n",
    "        self.features = []\n",
    "        \n",
    "    def read_data(self):\n",
    "        \"\"\"Read in the data from the specified directory\"\"\"\n",
    "        \n",
    "        self.cv_X_df = pd.read_csv(self.data_dir+'cv_X.csv')\n",
    "        self.cv_y_df = pd.read_csv(self.data_dir+'cv_y.csv')\n",
    "        self.cv_ids_df = pd.read_csv(self.data_dir+'cv_ids.csv')\n",
    "        self.train_X_df = pd.read_csv(self.data_dir+'train_X.csv')\n",
    "        self.train_y_df = pd.read_csv(self.data_dir+'train_y.csv')\n",
    "        self.train_ids_df = pd.read_csv(self.data_dir+'train_ids.csv')\n",
    "        self.test_X_df = pd.read_csv(self.data_dir+'test_X.csv')\n",
    "        self.test_ids_df = pd.read_csv(self.data_dir+'test_ids.csv')\n",
    "        \n",
    "    def select_features(self):\n",
    "        \"\"\"Select features from the dataset by using feature importances\n",
    "        to add features one by one for selection\"\"\"\n",
    "        \n",
    "        # TODO:\n",
    "        #   - PERFORM FEATURE SELECTION\n",
    "        \n",
    "        self.selected_features = self.features\n",
    "        \n",
    "    def tune_params(self):\n",
    "        \"\"\"Function to handle tuning hyperparameters of the model\"\"\"\n",
    "        \n",
    "        # TODO:\n",
    "        #   - PERFORM HYPERPARAMETER SEARCH HERE\n",
    "        self.params = self.params\n",
    "        \n",
    "    def train_model(self):\n",
    "        \"\"\"Trains the model on all training data\n",
    "        and returns a model to be used for prediction\"\"\"\n",
    "        self.model.fit(self.train_X_df.values, self.train_y_df.values[:, 1])\n",
    "        \n",
    "    def predict_output(self):\n",
    "        \"\"\"Make predictions on test data.\"\"\"\n",
    "        pred = self.model.predict(self.test_X_df.values)\n",
    "        return pred\n",
    "        \n",
    "    def get_model(self):\n",
    "        \"\"\"Return the model used for prediction\"\"\"\n",
    "        \n",
    "        # TODO:\n",
    "        #    - HOW TO RETURN THIS?? JUST RETURN THE SKLEAN MODEL???\n",
    "        \n",
    "        return self.model\n",
    "        "
   ]
  },
  {
   "cell_type": "code",
   "execution_count": 11,
   "metadata": {
    "collapsed": false
   },
   "outputs": [
    {
     "name": "stdout",
     "output_type": "stream",
     "text": [
      "[1 1 1 1]\n"
     ]
    }
   ],
   "source": [
    "model = RandomForest()\n",
    "\n",
    "model.read_data()\n",
    "\n",
    "model.select_features()\n",
    "\n",
    "model.tune_params()\n",
    "\n",
    "model.train_model()\n",
    "\n",
    "pred = model.predict_output()\n",
    "print(pred)\n",
    "\n",
    "train_model = model.get_model()"
   ]
  },
  {
   "cell_type": "code",
   "execution_count": null,
   "metadata": {
    "collapsed": true
   },
   "outputs": [],
   "source": []
  }
 ],
 "metadata": {
  "kernelspec": {
   "display_name": "Python 3",
   "language": "python",
   "name": "python3"
  },
  "language_info": {
   "codemirror_mode": {
    "name": "ipython",
    "version": 3
   },
   "file_extension": ".py",
   "mimetype": "text/x-python",
   "name": "python",
   "nbconvert_exporter": "python",
   "pygments_lexer": "ipython3",
   "version": "3.5.2"
  }
 },
 "nbformat": 4,
 "nbformat_minor": 1
}
