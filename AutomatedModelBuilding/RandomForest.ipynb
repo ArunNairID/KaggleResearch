{
 "cells": [
  {
   "cell_type": "code",
   "execution_count": null,
   "metadata": {
    "collapsed": true
   },
   "outputs": [],
   "source": [
    "import sklearn\n",
    "import numpy as np\n",
    "import pandas as pd"
   ]
  },
  {
   "cell_type": "code",
   "execution_count": null,
   "metadata": {
    "collapsed": true
   },
   "outputs": [],
   "source": [
    "class RandomForest():\n",
    "    \"\"\"A class to choose and train a random forest model\"\"\"\n",
    "    \"\"\"This implements the sklearn Random Forest Model\"\"\"\n",
    "    \n",
    "    def __init__(self, data_dir='./processed_data/', regressor=False, n_jobs=1):\n",
    "        \"\"\"Initializes the random forest class\"\"\"\n",
    "        this.n_jobs = n_jobs\n",
    "        this.regressor = regressor\n",
    "        this.data_dir = data_dir\n",
    "        if regressor:\n",
    "            this.model = sklearn.RandomForestRegressor()\n",
    "        else:\n",
    "            this.model = sklearn.RandomForestClassifier()\n",
    "        this.params = {}\n",
    "        this.features = []\n",
    "        \n",
    "    def read_data(self):\n",
    "        \"\"\"Read in the data from the specified directory\"\"\"\n",
    "        this.train_X_df = pd.read_csv(this.data_dir+'train_X.csv')\n",
    "        this.train_y_df = pd.read_csv(this.data_dir+'train_y.csv')\n",
    "        this.test_X_df = pd.read_csv(this.data_dir+'test_X.csv')\n",
    "        \n",
    "    def select_features(self):\n",
    "        \"\"\"Select features from the dataset by using feature importances\n",
    "        to add features one by one for selection\"\"\"\n",
    "        this.selected_features = []\n",
    "        \n",
    "    def tune_params(self):\n",
    "        \"\"\"Function to handle tuning hyperparameters of the model\"\"\"\n",
    "        this.params = {}\n",
    "        \n",
    "    def train_model(self):\n",
    "        \"\"\"Trains the model on all training data\n",
    "        and returns a model to be used for prediction\"\"\"\n",
    "        this.model = this.model\n",
    "        \n",
    "    def get_model(self):\n",
    "        return this.model\n",
    "        "
   ]
  }
 ],
 "metadata": {
  "kernelspec": {
   "display_name": "Python 3",
   "language": "python",
   "name": "python3"
  },
  "language_info": {
   "codemirror_mode": {
    "name": "ipython",
    "version": 3
   },
   "file_extension": ".py",
   "mimetype": "text/x-python",
   "name": "python",
   "nbconvert_exporter": "python",
   "pygments_lexer": "ipython3",
   "version": "3.5.2"
  }
 },
 "nbformat": 4,
 "nbformat_minor": 1
}
