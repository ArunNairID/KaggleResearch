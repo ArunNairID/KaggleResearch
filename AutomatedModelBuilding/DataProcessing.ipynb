{
 "cells": [
  {
   "cell_type": "code",
   "execution_count": null,
   "metadata": {
    "collapsed": true
   },
   "outputs": [],
   "source": [
    "import pandas as pd\n",
    "import numpy as np\n",
    "import os"
   ]
  },
  {
   "cell_type": "code",
   "execution_count": null,
   "metadata": {
    "collapsed": true
   },
   "outputs": [],
   "source": [
    "# some global variables\n",
    "\n",
    "data_filepath = \"./data/\"\n"
   ]
  },
  {
   "cell_type": "code",
   "execution_count": null,
   "metadata": {
    "collapsed": true
   },
   "outputs": [],
   "source": [
    "def NONE(X):\n",
    "    \"\"\"Return the values - placeholder function for other operations\"\"\"\n",
    "    return X"
   ]
  },
  {
   "cell_type": "code",
   "execution_count": null,
   "metadata": {
    "collapsed": true
   },
   "outputs": [],
   "source": [
    "# Encoding Functions\n",
    "\n",
    "def MAP(X):\n",
    "    \"\"\"Map all values to integer numbers\"\"\"\n",
    "    \n",
    "    # WHY DOES THE MAPPING FAIL WHEN \n",
    "    # THERE IS A NAN IN THE DATA??\n",
    "    # SEEMS TO HAVE WORKED BEFORE\n",
    "    \n",
    "    print(X)\n",
    "    \n",
    "    # create an encoding for categorical vars\n",
    "    mapping = {label:idx for idx, label in \\\n",
    "               enumerate(np.unique(X))}\n",
    "    \n",
    "    print(mapping)\n",
    "    \n",
    "    return X.map(mapping).astype(int)"
   ]
  },
  {
   "cell_type": "code",
   "execution_count": null,
   "metadata": {
    "collapsed": true
   },
   "outputs": [],
   "source": [
    "# Scaling Functions\n",
    "\n",
    "def NRM1(X):\n",
    "    \"\"\"Scale by dividing by the 1-norm\"\"\"\n",
    "    norm = np.linalg.norm(X, ord=1)\n",
    "    return X / norm"
   ]
  },
  {
   "cell_type": "code",
   "execution_count": null,
   "metadata": {
    "collapsed": true
   },
   "outputs": [],
   "source": [
    "# Imputing Functions\n",
    "\n",
    "def UNIQ(X, value=-1):\n",
    "    \"\"\"Replace missing Values with unique value\"\"\"\n",
    "    \n",
    "    X.fillna(value=value, inplace=True)\n",
    "    \n",
    "    print(X)\n",
    "    \n",
    "    return X"
   ]
  },
  {
   "cell_type": "code",
   "execution_count": null,
   "metadata": {
    "collapsed": false
   },
   "outputs": [],
   "source": [
    "class Preprocessor:\n",
    "    \"\"\"A class to process and reformat data\n",
    "    for use in learning models\"\"\"\n",
    "    \n",
    "    def __init__(self, train_data_file, train_label_file, \n",
    "                 test_data_file, instr_file):\n",
    "        self.train_data_file = train_data_file\n",
    "        self.train_label_file = train_label_file\n",
    "        self.test_data_file = test_data_file\n",
    "        self.instr_file = instr_file\n",
    "        \n",
    "    def read_data(self):\n",
    "        \"\"\"Reads in data from the files passed to constructor\"\"\"\n",
    "        self.train_X_df= pd.read_csv(self.train_data_file)\n",
    "        self.train_y_df = pd.read_csv(self.train_label_file)\n",
    "        self.test_X_df = pd.read_csv(self.test_data_file)\n",
    "        self.instr_df = pd.read_csv(self.instr_file)\n",
    "        \n",
    "    def write_data(self, out_dir='./processed_data/'):\n",
    "        \"\"\"Writes all of the data to output files\"\"\"\n",
    "        \n",
    "        # create the output directory if it does not exist\n",
    "        if not os.path.exists(out_dir):\n",
    "            os.makedirs(out_dir)\n",
    "        \n",
    "        # write the data to the output directory as .csv files\n",
    "        self.train_X_df.to_csv(out_dir+'train_X.csv')\n",
    "        self.train_y_df.to_csv(out_dir+'train_y.csv')\n",
    "        self.test_X_df.to_csv(out_dir+'test_X.csv')\n",
    "        \n",
    "    def process(self):\n",
    "        \"\"\"Performs the processing on train and test data\"\"\"\n",
    "        \n",
    "        for col in self.train_X_df:\n",
    "            \n",
    "            # determine what to perform at each of the steps\n",
    "            col_instr = self.instr_df[col].values\n",
    "            col_enc = col_instr[1]\n",
    "            col_scl = col_instr[2]\n",
    "            col_imp = col_instr[3]\n",
    "            \n",
    "            self.train_X_df[col] = UNIQ(self.train_X_df[col])\n",
    "            \n",
    "            print(self.train_X_df)\n",
    "\n",
    "            # perform encoding of data\n",
    "            if col_enc == 'MAP':\n",
    "                self.train_X_df[col] = MAP(self.train_X_df[col])\n",
    "            \n",
    "\n",
    "            # perform scaling\n",
    "            if col_scl == 'NRM1':\n",
    "                self.train_X_df[col] = NRM1(self.train_X_df[col])\n",
    "\n",
    "\n",
    "            # impute values\n",
    "            if col_imp == 'UNIQ':\n",
    "                self.train_X_df[col] = UNIQ(self.train_X_df[col], value=-1)\n",
    "\n",
    "        \n",
    "        self.train_X = self.train_X_df.values\n",
    "        self.train_y = self.train_y_df.values\n",
    "        self.test_X = self.test_X_df.values"
   ]
  },
  {
   "cell_type": "code",
   "execution_count": null,
   "metadata": {
    "collapsed": false,
    "scrolled": false
   },
   "outputs": [],
   "source": [
    "# some simple testing code and such\n",
    "train_data = data_filepath+'example_data_train.csv'\n",
    "train_labels = data_filepath+'example_labels_train.csv'\n",
    "test_data = data_filepath+'example_data_test.csv'\n",
    "description = data_filepath+'FeatureDescriptions.csv'\n",
    "\n",
    "proc = Preprocessor(train_data_file=train_data,\n",
    "                 train_label_file=train_labels,\n",
    "                 test_data_file=test_data,\n",
    "                 instr_file=description)\n",
    "\n",
    "proc.read_data()\n",
    "\n",
    "proc.process()\n",
    "\n",
    "proc.write_data()\n"
   ]
  },
  {
   "cell_type": "code",
   "execution_count": null,
   "metadata": {
    "collapsed": true
   },
   "outputs": [],
   "source": []
  }
 ],
 "metadata": {
  "kernelspec": {
   "display_name": "Python 3",
   "language": "python",
   "name": "python3"
  },
  "language_info": {
   "codemirror_mode": {
    "name": "ipython",
    "version": 3
   },
   "file_extension": ".py",
   "mimetype": "text/x-python",
   "name": "python",
   "nbconvert_exporter": "python",
   "pygments_lexer": "ipython3",
   "version": "3.5.2"
  }
 },
 "nbformat": 4,
 "nbformat_minor": 1
}
