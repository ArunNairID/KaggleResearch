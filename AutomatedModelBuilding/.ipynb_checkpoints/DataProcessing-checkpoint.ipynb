{
 "cells": [
  {
   "cell_type": "code",
   "execution_count": 1,
   "metadata": {
    "collapsed": true
   },
   "outputs": [],
   "source": [
    "import pandas as pd\n",
    "import numpy as np\n",
    "import os"
   ]
  },
  {
   "cell_type": "code",
   "execution_count": 2,
   "metadata": {
    "collapsed": true
   },
   "outputs": [],
   "source": [
    "# some global variables\n",
    "\n",
    "data_filepath = \"./data/\"\n"
   ]
  },
  {
   "cell_type": "code",
   "execution_count": 3,
   "metadata": {
    "collapsed": true
   },
   "outputs": [],
   "source": [
    "def NONE(X):\n",
    "    \"\"\"Return the values - placeholder function for other operations\"\"\"\n",
    "    return X"
   ]
  },
  {
   "cell_type": "code",
   "execution_count": 15,
   "metadata": {
    "collapsed": true
   },
   "outputs": [],
   "source": [
    "# Encoding Functions\n",
    "\n",
    "def MAP(X):\n",
    "    \"\"\"Map all values to integer numbers\"\"\"\n",
    "    \n",
    "    # WHY DOES THE MAPPING FAIL WHEN \n",
    "    # THERE IS A NAN IN THE DATA??\n",
    "    # SEEMS TO HAVE WORKED BEFORE\n",
    "    \n",
    "    print(X)\n",
    "    \n",
    "    # create an encoding for categorical vars\n",
    "    mapping = {label:idx for idx, label in \\\n",
    "               enumerate(np.unique(X))}\n",
    "    \n",
    "    print(mapping)\n",
    "    \n",
    "    return X.map(mapping).astype(int)"
   ]
  },
  {
   "cell_type": "code",
   "execution_count": 16,
   "metadata": {
    "collapsed": true
   },
   "outputs": [],
   "source": [
    "# Scaling Functions\n",
    "\n",
    "def NRM1(X):\n",
    "    \"\"\"Scale by dividing by the 1-norm\"\"\"\n",
    "    norm = np.linalg.norm(X, ord=1)\n",
    "    return X / norm"
   ]
  },
  {
   "cell_type": "code",
   "execution_count": 17,
   "metadata": {
    "collapsed": true
   },
   "outputs": [],
   "source": [
    "# Imputing Functions\n",
    "\n",
    "def UNIQ(X, value=-1):\n",
    "    \"\"\"Replace missing Values with unique value\"\"\"\n",
    "    \n",
    "    X.fillna(value=value, inplace=True)\n",
    "    \n",
    "    print(X)\n",
    "    \n",
    "    return X"
   ]
  },
  {
   "cell_type": "code",
   "execution_count": 18,
   "metadata": {
    "collapsed": false
   },
   "outputs": [],
   "source": [
    "class Preprocessor:\n",
    "    \"\"\"A class to process and reformat data\n",
    "    for use in learning models\"\"\"\n",
    "    \n",
    "    def __init__(self, train_data_file, train_label_file, \n",
    "                 test_data_file, instr_file):\n",
    "        self.train_data_file = train_data_file\n",
    "        self.train_label_file = train_label_file\n",
    "        self.test_data_file = test_data_file\n",
    "        self.instr_file = instr_file\n",
    "        \n",
    "    def read_data(self):\n",
    "        \"\"\"Reads in data from the files passed to constructor\"\"\"\n",
    "        self.train_X_df= pd.read_csv(self.train_data_file)\n",
    "        self.train_y_df = pd.read_csv(self.train_label_file)\n",
    "        self.test_X_df = pd.read_csv(self.test_data_file)\n",
    "        self.instr_df = pd.read_csv(self.instr_file)\n",
    "        \n",
    "    def write_data(self, out_dir='./processed_data/'):\n",
    "        \"\"\"Writes all of the data to output files\"\"\"\n",
    "        \n",
    "        # create the output directory if it does not exist\n",
    "        if not os.path.exists(out_dir):\n",
    "            os.makedirs(out_dir)\n",
    "        \n",
    "        # write the data to the output directory as .csv files\n",
    "        self.train_X_df.to_csv(out_dir+'train_X.csv')\n",
    "        self.train_y_df.to_csv(out_dir+'train_y.csv')\n",
    "        self.test_X_df.to_csv(out_dir+'test_X.csv')\n",
    "        \n",
    "    def process(self):\n",
    "        \"\"\"Performs the processing on train and test data\"\"\"\n",
    "        \n",
    "        for col in self.train_X_df:\n",
    "            \n",
    "            # determine what to perform at each of the steps\n",
    "            col_instr = self.instr_df[col].values\n",
    "            col_enc = col_instr[1]\n",
    "            col_scl = col_instr[2]\n",
    "            col_imp = col_instr[3]\n",
    "            \n",
    "            self.train_X_df[col] = UNIQ(self.train_X_df[col])\n",
    "            \n",
    "            print(self.train_X_df)\n",
    "\n",
    "            # perform encoding of data\n",
    "            if col_enc == 'MAP':\n",
    "                self.train_X_df[col] = MAP(self.train_X_df[col])\n",
    "            \n",
    "\n",
    "            # perform scaling\n",
    "            if col_scl == 'NRM1':\n",
    "                self.train_X_df[col] = NRM1(self.train_X_df[col])\n",
    "\n",
    "\n",
    "            # impute values\n",
    "            if col_imp == 'UNIQ':\n",
    "                self.train_X_df[col] = UNIQ(self.train_X_df[col], value=-1)\n",
    "\n",
    "        \n",
    "        self.train_X = self.train_X_df.values\n",
    "        self.train_y = self.train_y_df.values\n",
    "        self.test_X = self.test_X_df.values"
   ]
  },
  {
   "cell_type": "code",
   "execution_count": 19,
   "metadata": {
    "collapsed": false,
    "scrolled": false
   },
   "outputs": [
    {
     "name": "stdout",
     "output_type": "stream",
     "text": [
      "0    0.54123\n",
      "1   -1.00000\n",
      "2    7.95860\n",
      "3    2.19231\n",
      "4    0.69700\n",
      "5    5.43100\n",
      "Name: Feature1, dtype: float64\n",
      "0    0.030372\n",
      "1   -0.056116\n",
      "2    0.446607\n",
      "3    0.123024\n",
      "4    0.039113\n",
      "5    0.304768\n",
      "Name: Feature1, dtype: float64\n",
      "0     5.32170\n",
      "1     8.48391\n",
      "2     2.58393\n",
      "3    10.48210\n",
      "4     4.51200\n",
      "5     9.41000\n",
      "Name: Feature2, dtype: float64\n",
      "0    0.130454\n",
      "1    0.207971\n",
      "2    0.063341\n",
      "3    0.256954\n",
      "4    0.110605\n",
      "5    0.230673\n",
      "Name: Feature2, dtype: float64\n",
      "0     A\n",
      "1     A\n",
      "2    -1\n",
      "3     B\n",
      "4     A\n",
      "5     B\n",
      "Name: Feature3, dtype: object\n",
      "0     A\n",
      "1     A\n",
      "2    -1\n",
      "3     B\n",
      "4     A\n",
      "5     B\n",
      "Name: Feature3, dtype: object\n"
     ]
    },
    {
     "ename": "TypeError",
     "evalue": "unorderable types: str() > int()",
     "output_type": "error",
     "traceback": [
      "\u001b[0;31m---------------------------------------------------------------------------\u001b[0m",
      "\u001b[0;31mTypeError\u001b[0m                                 Traceback (most recent call last)",
      "\u001b[0;32m<ipython-input-19-5b1d23123b2f>\u001b[0m in \u001b[0;36m<module>\u001b[0;34m()\u001b[0m\n\u001b[1;32m     12\u001b[0m \u001b[0mproc\u001b[0m\u001b[0;34m.\u001b[0m\u001b[0mread_data\u001b[0m\u001b[0;34m(\u001b[0m\u001b[0;34m)\u001b[0m\u001b[0;34m\u001b[0m\u001b[0m\n\u001b[1;32m     13\u001b[0m \u001b[0;34m\u001b[0m\u001b[0m\n\u001b[0;32m---> 14\u001b[0;31m \u001b[0mproc\u001b[0m\u001b[0;34m.\u001b[0m\u001b[0mprocess\u001b[0m\u001b[0;34m(\u001b[0m\u001b[0;34m)\u001b[0m\u001b[0;34m\u001b[0m\u001b[0m\n\u001b[0m\u001b[1;32m     15\u001b[0m \u001b[0;34m\u001b[0m\u001b[0m\n\u001b[1;32m     16\u001b[0m \u001b[0mproc\u001b[0m\u001b[0;34m.\u001b[0m\u001b[0mwrite_data\u001b[0m\u001b[0;34m(\u001b[0m\u001b[0;34m)\u001b[0m\u001b[0;34m\u001b[0m\u001b[0m\n",
      "\u001b[0;32m<ipython-input-18-530f0cad0d7f>\u001b[0m in \u001b[0;36mprocess\u001b[0;34m(self)\u001b[0m\n\u001b[1;32m     44\u001b[0m             \u001b[0;31m# perform encoding of data\u001b[0m\u001b[0;34m\u001b[0m\u001b[0;34m\u001b[0m\u001b[0m\n\u001b[1;32m     45\u001b[0m             \u001b[0;32mif\u001b[0m \u001b[0mcol_enc\u001b[0m \u001b[0;34m==\u001b[0m \u001b[0;34m'MAP'\u001b[0m\u001b[0;34m:\u001b[0m\u001b[0;34m\u001b[0m\u001b[0m\n\u001b[0;32m---> 46\u001b[0;31m                 \u001b[0mself\u001b[0m\u001b[0;34m.\u001b[0m\u001b[0mtrain_X_df\u001b[0m\u001b[0;34m[\u001b[0m\u001b[0mcol\u001b[0m\u001b[0;34m]\u001b[0m \u001b[0;34m=\u001b[0m \u001b[0mMAP\u001b[0m\u001b[0;34m(\u001b[0m\u001b[0mself\u001b[0m\u001b[0;34m.\u001b[0m\u001b[0mtrain_X_df\u001b[0m\u001b[0;34m[\u001b[0m\u001b[0mcol\u001b[0m\u001b[0;34m]\u001b[0m\u001b[0;34m)\u001b[0m\u001b[0;34m\u001b[0m\u001b[0m\n\u001b[0m\u001b[1;32m     47\u001b[0m \u001b[0;34m\u001b[0m\u001b[0m\n\u001b[1;32m     48\u001b[0m \u001b[0;34m\u001b[0m\u001b[0m\n",
      "\u001b[0;32m<ipython-input-15-26028f32f058>\u001b[0m in \u001b[0;36mMAP\u001b[0;34m(X)\u001b[0m\n\u001b[1;32m     11\u001b[0m \u001b[0;34m\u001b[0m\u001b[0m\n\u001b[1;32m     12\u001b[0m     \u001b[0;31m# create an encoding for categorical vars\u001b[0m\u001b[0;34m\u001b[0m\u001b[0;34m\u001b[0m\u001b[0m\n\u001b[0;32m---> 13\u001b[0;31m     \u001b[0mmapping\u001b[0m \u001b[0;34m=\u001b[0m \u001b[0;34m{\u001b[0m\u001b[0mlabel\u001b[0m\u001b[0;34m:\u001b[0m\u001b[0midx\u001b[0m \u001b[0;32mfor\u001b[0m \u001b[0midx\u001b[0m\u001b[0;34m,\u001b[0m \u001b[0mlabel\u001b[0m \u001b[0;32min\u001b[0m                \u001b[0menumerate\u001b[0m\u001b[0;34m(\u001b[0m\u001b[0mnp\u001b[0m\u001b[0;34m.\u001b[0m\u001b[0munique\u001b[0m\u001b[0;34m(\u001b[0m\u001b[0mX\u001b[0m\u001b[0;34m)\u001b[0m\u001b[0;34m)\u001b[0m\u001b[0;34m}\u001b[0m\u001b[0;34m\u001b[0m\u001b[0m\n\u001b[0m\u001b[1;32m     14\u001b[0m \u001b[0;34m\u001b[0m\u001b[0m\n\u001b[1;32m     15\u001b[0m     \u001b[0mprint\u001b[0m\u001b[0;34m(\u001b[0m\u001b[0mmapping\u001b[0m\u001b[0;34m)\u001b[0m\u001b[0;34m\u001b[0m\u001b[0m\n",
      "\u001b[0;32m/usr/local/lib/python3.5/dist-packages/numpy/lib/arraysetops.py\u001b[0m in \u001b[0;36munique\u001b[0;34m(ar, return_index, return_inverse, return_counts)\u001b[0m\n\u001b[1;32m    212\u001b[0m         \u001b[0maux\u001b[0m \u001b[0;34m=\u001b[0m \u001b[0mar\u001b[0m\u001b[0;34m[\u001b[0m\u001b[0mperm\u001b[0m\u001b[0;34m]\u001b[0m\u001b[0;34m\u001b[0m\u001b[0m\n\u001b[1;32m    213\u001b[0m     \u001b[0;32melse\u001b[0m\u001b[0;34m:\u001b[0m\u001b[0;34m\u001b[0m\u001b[0m\n\u001b[0;32m--> 214\u001b[0;31m         \u001b[0mar\u001b[0m\u001b[0;34m.\u001b[0m\u001b[0msort\u001b[0m\u001b[0;34m(\u001b[0m\u001b[0;34m)\u001b[0m\u001b[0;34m\u001b[0m\u001b[0m\n\u001b[0m\u001b[1;32m    215\u001b[0m         \u001b[0maux\u001b[0m \u001b[0;34m=\u001b[0m \u001b[0mar\u001b[0m\u001b[0;34m\u001b[0m\u001b[0m\n\u001b[1;32m    216\u001b[0m     \u001b[0mflag\u001b[0m \u001b[0;34m=\u001b[0m \u001b[0mnp\u001b[0m\u001b[0;34m.\u001b[0m\u001b[0mconcatenate\u001b[0m\u001b[0;34m(\u001b[0m\u001b[0;34m(\u001b[0m\u001b[0;34m[\u001b[0m\u001b[0;32mTrue\u001b[0m\u001b[0;34m]\u001b[0m\u001b[0;34m,\u001b[0m \u001b[0maux\u001b[0m\u001b[0;34m[\u001b[0m\u001b[0;36m1\u001b[0m\u001b[0;34m:\u001b[0m\u001b[0;34m]\u001b[0m \u001b[0;34m!=\u001b[0m \u001b[0maux\u001b[0m\u001b[0;34m[\u001b[0m\u001b[0;34m:\u001b[0m\u001b[0;34m-\u001b[0m\u001b[0;36m1\u001b[0m\u001b[0;34m]\u001b[0m\u001b[0;34m)\u001b[0m\u001b[0;34m)\u001b[0m\u001b[0;34m\u001b[0m\u001b[0m\n",
      "\u001b[0;31mTypeError\u001b[0m: unorderable types: str() > int()"
     ]
    }
   ],
   "source": [
    "# some simple testing code and such\n",
    "train_data = data_filepath+'example_data_train.csv'\n",
    "train_labels = data_filepath+'example_labels_train.csv'\n",
    "test_data = data_filepath+'example_data_test.csv'\n",
    "description = data_filepath+'FeatureDescriptions.csv'\n",
    "\n",
    "proc = Preprocessor(train_data_file=train_data,\n",
    "                 train_label_file=train_labels,\n",
    "                 test_data_file=test_data,\n",
    "                 instr_file=description)\n",
    "\n",
    "proc.read_data()\n",
    "\n",
    "proc.process()\n",
    "\n",
    "proc.write_data()\n"
   ]
  },
  {
   "cell_type": "code",
   "execution_count": null,
   "metadata": {
    "collapsed": true
   },
   "outputs": [],
   "source": []
  }
 ],
 "metadata": {
  "kernelspec": {
   "display_name": "Python 3",
   "language": "python",
   "name": "python3"
  },
  "language_info": {
   "codemirror_mode": {
    "name": "ipython",
    "version": 3
   },
   "file_extension": ".py",
   "mimetype": "text/x-python",
   "name": "python",
   "nbconvert_exporter": "python",
   "pygments_lexer": "ipython3",
   "version": "3.5.2"
  }
 },
 "nbformat": 4,
 "nbformat_minor": 1
}
