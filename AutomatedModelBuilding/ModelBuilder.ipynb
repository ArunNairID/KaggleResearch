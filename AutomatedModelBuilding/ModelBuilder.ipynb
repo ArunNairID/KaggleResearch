{
 "cells": [
  {
   "cell_type": "markdown",
   "metadata": {},
   "source": [
    "<h1> Model Builder</h1>\n",
    "\n",
    "<p>This program will train different models and combine their predictions to make an overall prediction.</p>"
   ]
  },
  {
   "cell_type": "code",
   "execution_count": 8,
   "metadata": {
    "collapsed": true
   },
   "outputs": [],
   "source": [
    "import pandas as pd\n",
    "import numpy as np\n",
    "import csv\n",
    "import os"
   ]
  },
  {
   "cell_type": "code",
   "execution_count": 12,
   "metadata": {},
   "outputs": [],
   "source": [
    "class ModelBuilder():\n",
    "    \n",
    "    def __init__(self, rf=True, xgb=True):\n",
    "        self.rf = rf\n",
    "        self.xgb = xgb\n",
    "        \n",
    "    def average_output(self):\n",
    "        rf_pred = pd.read_csv('./output/houseprices_output_RandomForest.csv',\n",
    "                              index_col=0, header=0).values\n",
    "        xgb_pred = pd.read_csv('./output/houseprices_output_XGBoost.csv',\n",
    "                               index_col=0, header=0).values\n",
    "        svm_pred = pd.read_csv('./output/houseprices_output_SVM.csv',\n",
    "                              index_col=0, header=0).values\n",
    "        \n",
    "        \n",
    "        self.pred = (0.5*rf_pred + 1.25*xgb_pred + 1.25*svm_pred) / 3\n",
    "        return self.pred\n",
    "    \n",
    "    def majority_output(self):\n",
    "        rf_pred = pd.read_csv('./output/titanic_output_RandomForest.csv',\n",
    "                              index_col=0, header=0).values.ravel()\n",
    "        xgb_pred = pd.read_csv('./output/titanic_output_XGBoost.csv',\n",
    "                               index_col=0, header=0).values.ravel()\n",
    "        svm_pred = pd.read_csv('./output/titanic_output_SVM.csv',\n",
    "                              index_col=0, header=0).values.ravel()\n",
    "        \n",
    "        self.pred = [1 if (rf_pred[x]+xgb_pred[x]+svm_pred[x]) >= 2 else 0 for x in range(len(rf_pred))]\n",
    "        return self.pred\n",
    "    \n",
    "    def write_output(self, output_file='output.csv', header=['Id', 'Result'],\n",
    "                    out_dir='./output/'):\n",
    "        # create output dir if it does not exist\n",
    "        if not os.path.exists(out_dir):\n",
    "            os.makedirs(out_dir)\n",
    "            \n",
    "        self.ids = pd.read_csv('./output/houseprices_output_SVM.csv',\n",
    "                               header=0).values[:, 0].astype(int)\n",
    "        print(self.ids)\n",
    "        self.pred = np.ravel(self.pred)\n",
    "        print(self.pred)\n",
    "        \n",
    "        # write output to a file\n",
    "        prediction_file = open(out_dir+output_file, 'w')\n",
    "        open_file_object = csv.writer(prediction_file, lineterminator='\\n')\n",
    "        open_file_object.writerow(header)\n",
    "        data = zip(self.ids, self.pred)\n",
    "        open_file_object.writerows(data)\n",
    "        prediction_file.close()\n",
    "        "
   ]
  },
  {
   "cell_type": "code",
   "execution_count": 13,
   "metadata": {},
   "outputs": [
    {
     "name": "stdout",
     "output_type": "stream",
     "text": [
      "[1461 1462 1463 ..., 2917 2918 2919]\n",
      "[ 122072.50805483  151906.799624    174403.42313017 ...,  161019.96514475\n",
      "  111870.89861258  216537.58292   ]\n"
     ]
    }
   ],
   "source": [
    "builder = ModelBuilder()\n",
    "\n",
    "#builder.majority_output()\n",
    "builder.average_output()\n",
    "builder.write_output(output_file='houseprices_output_avg.csv', header=['Id', 'SalePrice'])"
   ]
  },
  {
   "cell_type": "code",
   "execution_count": null,
   "metadata": {
    "collapsed": true
   },
   "outputs": [],
   "source": []
  }
 ],
 "metadata": {
  "kernelspec": {
   "display_name": "Python 3",
   "language": "python",
   "name": "python3"
  },
  "language_info": {
   "codemirror_mode": {
    "name": "ipython",
    "version": 3
   },
   "file_extension": ".py",
   "mimetype": "text/x-python",
   "name": "python",
   "nbconvert_exporter": "python",
   "pygments_lexer": "ipython3",
   "version": "3.5.2"
  }
 },
 "nbformat": 4,
 "nbformat_minor": 1
}
